{
 "cells": [
  {
   "cell_type": "code",
   "execution_count": null,
   "id": "2fa44c5f",
   "metadata": {},
   "outputs": [],
   "source": [
    "import pandas as pd\n",
    "import numpy as np\n",
    "import matplotlib.pyplot as plt\n",
    "import seaborn as sns"
   ]
  },
  {
   "cell_type": "markdown",
   "id": "91d7461e",
   "metadata": {},
   "source": [
    "## Building Simple linear regression model"
   ]
  },
  {
   "cell_type": "markdown",
   "id": "dcb79c50",
   "metadata": {},
   "source": [
    "using pandas for reading data"
   ]
  },
  {
   "cell_type": "code",
   "execution_count": null,
   "id": "5e0e2d8a",
   "metadata": {},
   "outputs": [],
   "source": [
    "df=pd.read_csv('Salary_dataset.csv')\n",
    "df.drop('Unnamed: 0',axis=1,inplace=True)\n",
    "df.head()"
   ]
  },
  {
   "cell_type": "code",
   "execution_count": null,
   "id": "29966c1d",
   "metadata": {},
   "outputs": [],
   "source": [
    "sns.scatterplot(x='YearsExperience',y='Salary',data=df)\n",
    "plt.xlabel('Years of Experience')\n",
    "plt.ylabel('Salary')\n",
    "plt.title('Scatter plot of Years of Experience vs Salary')"
   ]
  },
  {
   "cell_type": "markdown",
   "id": "2e5aec28",
   "metadata": {},
   "source": [
    "Seperating independent and dependent variables"
   ]
  },
  {
   "cell_type": "code",
   "execution_count": null,
   "id": "a44e630e",
   "metadata": {},
   "outputs": [],
   "source": [
    "X=df[['YearsExperience']] #we use double brackets to make it a dataframe\n",
    "Y=df['Salary'] #if we use single bracket it becomes series"
   ]
  },
  {
   "cell_type": "markdown",
   "id": "d54e74d4",
   "metadata": {},
   "source": [
    "Spliting data into training and testing data using library called Scikit-learn\n",
    "- from sklearn.model_selection import train_test_split"
   ]
  },
  {
   "cell_type": "code",
   "execution_count": null,
   "id": "3a8c0026",
   "metadata": {},
   "outputs": [],
   "source": [
    "from sklearn.model_selection import train_test_split"
   ]
  },
  {
   "cell_type": "code",
   "execution_count": null,
   "id": "28a10b57",
   "metadata": {},
   "outputs": [],
   "source": [
    "x_train,x_test,y_train,y_test=train_test_split(X,Y,test_size=0.25,random_state=42)"
   ]
  },
  {
   "cell_type": "markdown",
   "id": "924ea0e0",
   "metadata": {},
   "source": [
    "Now we need to standardize the dataset to make all of them into same units\n",
    "\n",
    "- we use sklearn.preprocessing.StandardScalar"
   ]
  },
  {
   "cell_type": "code",
   "execution_count": null,
   "id": "7534d0e1",
   "metadata": {},
   "outputs": [],
   "source": [
    "from sklearn.preprocessing import StandardScaler\n",
    "scaler=StandardScaler()\n",
    "\n",
    "x_train=scaler.fit_transform(x_train)\n",
    "x_test=scaler.transform(x_test)"
   ]
  },
  {
   "cell_type": "markdown",
   "id": "fe5e8350",
   "metadata": {},
   "source": [
    "Now we need to train model based on the train data\n",
    "- to create model we use from sklrean.linear_model import LinearRegression"
   ]
  },
  {
   "cell_type": "code",
   "execution_count": null,
   "id": "057a5e66",
   "metadata": {},
   "outputs": [],
   "source": [
    "from sklearn.linear_model import LinearRegression\n",
    "model=LinearRegression()\n",
    "model.fit(x_train,y_train)\n"
   ]
  },
  {
   "cell_type": "markdown",
   "id": "4cc90fe8",
   "metadata": {},
   "source": [
    "model will return coefficient and intercept of the best line"
   ]
  },
  {
   "cell_type": "code",
   "execution_count": null,
   "id": "52470ed0",
   "metadata": {},
   "outputs": [],
   "source": [
    "print(\"Coefficient:\",model.coef_)\n",
    "print(\"Intercept:\",model.intercept_)"
   ]
  },
  {
   "cell_type": "markdown",
   "id": "9c5a519b",
   "metadata": {},
   "source": [
    "The red line indicates the best fit line and prediction line"
   ]
  },
  {
   "cell_type": "code",
   "execution_count": null,
   "id": "051c5206",
   "metadata": {},
   "outputs": [],
   "source": [
    "plt.scatter(x_train,y_train,color='blue')\n",
    "plt.plot(x_train,model.predict(x_train),color='red')\n",
    "plt.xlabel('Years of Experience')\n",
    "plt.ylabel('Salary')\n",
    "plt.title('Regression Line on Training Data')\n",
    "plt.show()"
   ]
  },
  {
   "cell_type": "markdown",
   "id": "3c1d6cb3",
   "metadata": {},
   "source": [
    "now we need to test the model and find the accuracy of the model\n"
   ]
  },
  {
   "cell_type": "code",
   "execution_count": null,
   "id": "027d11e1",
   "metadata": {},
   "outputs": [],
   "source": [
    "y_pred=model.predict(x_test)\n",
    "from sklearn.metrics import mean_absolute_error,mean_squared_error,r2_score\n",
    "mae=mean_absolute_error(y_test,y_pred)\n",
    "mse=mean_squared_error(y_test,y_pred)\n",
    "rmse=np.sqrt(mse)\n",
    "mse"
   ]
  },
  {
   "cell_type": "code",
   "execution_count": null,
   "id": "59ec20d3",
   "metadata": {},
   "outputs": [],
   "source": [
    "score = r2_score(y_test,y_pred)\n",
    "score"
   ]
  },
  {
   "cell_type": "markdown",
   "id": "d1e27b7d",
   "metadata": {},
   "source": [
    "Manual testing"
   ]
  },
  {
   "cell_type": "code",
   "execution_count": null,
   "id": "01bf8a2e",
   "metadata": {},
   "outputs": [],
   "source": [
    "model.predict(scaler.transform([[1]]))"
   ]
  },
  {
   "cell_type": "markdown",
   "id": "d1ffba44",
   "metadata": {},
   "source": [
    "Interactive terminal for model\n"
   ]
  },
  {
   "cell_type": "code",
   "execution_count": 19,
   "id": "3c8d4222",
   "metadata": {},
   "outputs": [
    {
     "name": "stdout",
     "output_type": "stream",
     "text": [
      "Based on the model, the predicted salary for 100.0 years of experience is approximately $961,643.63.\n"
     ]
    },
    {
     "name": "stderr",
     "output_type": "stream",
     "text": [
      "c:\\Users\\sanik\\anaconda3\\Lib\\site-packages\\sklearn\\utils\\validation.py:2739: UserWarning: X does not have valid feature names, but StandardScaler was fitted with feature names\n",
      "  warnings.warn(\n"
     ]
    }
   ],
   "source": [
    "# Create a conversational interface for the model\n",
    "\n",
    "# Ask the user for input in normal language\n",
    "user_input_text = input(\"Hello! Please tell me the number of years of experience to predict the salary: \")\n",
    "\n",
    "try:\n",
    "    years_experience = float(user_input_text)\n",
    "    \n",
    "    # Standardize the input using the existing scaler object\n",
    "    # The scaler expects a 2D array, so we reshape the single value\n",
    "    scaled_input = scaler.transform([[years_experience]])\n",
    "    \n",
    "    # Use the trained model to predict the salary\n",
    "    # The prediction is returned as an array, so we access the first element\n",
    "    predicted_salary = model.predict(scaled_input)[0]\n",
    "    print(f\"Based on the model, the predicted salary for {years_experience} years of experience is approximately ${predicted_salary:,.2f}.\")\n",
    "\n",
    "except ValueError:\n",
    "    print(\"Sorry, that doesn't seem to be a valid number. Please enter a number for the years of experience.\")"
   ]
  }
 ],
 "metadata": {
  "kernelspec": {
   "display_name": "base",
   "language": "python",
   "name": "python3"
  },
  "language_info": {
   "codemirror_mode": {
    "name": "ipython",
    "version": 3
   },
   "file_extension": ".py",
   "mimetype": "text/x-python",
   "name": "python",
   "nbconvert_exporter": "python",
   "pygments_lexer": "ipython3",
   "version": "3.13.5"
  }
 },
 "nbformat": 4,
 "nbformat_minor": 5
}
